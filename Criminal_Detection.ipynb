{
  "cells": [
    {
      "cell_type": "markdown",
      "metadata": {
        "id": "view-in-github",
        "colab_type": "text"
      },
      "source": [
        "<a href=\"https://colab.research.google.com/github/jwalith/criminal-detection/blob/master/Criminal_Detection.ipynb\" target=\"_parent\"><img src=\"https://colab.research.google.com/assets/colab-badge.svg\" alt=\"Open In Colab\"/></a>"
      ]
    },
    {
      "cell_type": "markdown",
      "metadata": {
        "id": "2sVjN33-6DtV"
      },
      "source": [
        "# Step1:Import Keras Libraies"
      ]
    },
    {
      "cell_type": "code",
      "execution_count": null,
      "metadata": {
        "id": "G-y9xpSy6Dtf"
      },
      "outputs": [],
      "source": [
        "\n",
        "#import keras libraries\n",
        "from keras.models import Sequential\n",
        "from keras.layers import Dense\n",
        "from keras.layers import Conv2D\n",
        "from keras.layers import MaxPooling2D\n",
        "from keras.layers import Flatten"
      ]
    },
    {
      "cell_type": "markdown",
      "metadata": {
        "id": "4d4CFyGy6Dtj"
      },
      "source": [
        "# Step2: Intialize CNN model"
      ]
    },
    {
      "cell_type": "code",
      "execution_count": null,
      "metadata": {
        "id": "m3fRS2VF6Dtk"
      },
      "outputs": [],
      "source": [
        "model=Sequential()"
      ]
    },
    {
      "cell_type": "markdown",
      "metadata": {
        "id": "VPSLrYG96Dtl"
      },
      "source": [
        "# Step3: Add Convolution Layer"
      ]
    },
    {
      "cell_type": "code",
      "execution_count": null,
      "metadata": {
        "id": "zchK_Kru6Dtm",
        "outputId": "e7522331-ae5e-4189-e18c-b54685a2fb0e"
      },
      "outputs": [
        {
          "name": "stdout",
          "output_type": "stream",
          "text": [
            "WARNING:tensorflow:From C:\\Users\\sumanth\\AppData\\Local\\Continuum\\anaconda3\\lib\\site-packages\\tensorflow\\python\\framework\\op_def_library.py:263: colocate_with (from tensorflow.python.framework.ops) is deprecated and will be removed in a future version.\n",
            "Instructions for updating:\n",
            "Colocations handled automatically by placer.\n"
          ]
        },
        {
          "name": "stderr",
          "output_type": "stream",
          "text": [
            "C:\\Users\\sumanth\\AppData\\Local\\Continuum\\anaconda3\\lib\\site-packages\\ipykernel_launcher.py:1: UserWarning: Update your `Conv2D` call to the Keras 2 API: `Conv2D(32, (3, 3), input_shape=(128, 128,..., activation=\"relu\")`\n",
            "  \"\"\"Entry point for launching an IPython kernel.\n"
          ]
        }
      ],
      "source": [
        "model.add(Conv2D(32,3,3,input_shape=(128,128,3),activation='relu'))#1St parameter =no of features detectors 2nd& 3rd =Size of feature detector, \n",
        "#4th input image size,5 th parameter is channel for color=3 gray scale=1,6 th to avoid negative pixels we use activation function"
      ]
    },
    {
      "cell_type": "markdown",
      "metadata": {
        "id": "V4r1HbV76Dto"
      },
      "source": [
        "# Step4:Add Pooling Layer"
      ]
    },
    {
      "cell_type": "code",
      "execution_count": null,
      "metadata": {
        "id": "4H4zMhhJ6Dtq"
      },
      "outputs": [],
      "source": [
        "model.add(MaxPooling2D(pool_size=(2,2)))#1parmeter=size of pooling matrix"
      ]
    },
    {
      "cell_type": "markdown",
      "metadata": {
        "id": "3nigJ3fU6Dtr"
      },
      "source": [
        "# Step5: Add flatten layer"
      ]
    },
    {
      "cell_type": "code",
      "execution_count": null,
      "metadata": {
        "id": "p1FTfB_p6Dts"
      },
      "outputs": [],
      "source": [
        "model.add(Flatten())"
      ]
    },
    {
      "cell_type": "markdown",
      "metadata": {
        "id": "U1bOq64E6Dtu"
      },
      "source": [
        "# Step6: Ann starts so need to add dense layers"
      ]
    },
    {
      "cell_type": "code",
      "execution_count": null,
      "metadata": {
        "id": "xw0z5vB96Dtv",
        "outputId": "34a7243a-c0a7-4781-8f31-c545e9d8dde2"
      },
      "outputs": [
        {
          "name": "stderr",
          "output_type": "stream",
          "text": [
            "C:\\Users\\sumanth\\AppData\\Local\\Continuum\\anaconda3\\lib\\site-packages\\ipykernel_launcher.py:2: UserWarning: Update your `Dense` call to the Keras 2 API: `Dense(activation=\"relu\", units=128, kernel_initializer=\"random_uniform\")`\n",
            "  \n"
          ]
        }
      ],
      "source": [
        "\n",
        "model.add(Dense(output_dim=128,activation='relu',init='random_uniform'))"
      ]
    },
    {
      "cell_type": "code",
      "execution_count": null,
      "metadata": {
        "id": "UkzXL03t6Dtx",
        "outputId": "55e6f8d4-baa0-4bdc-d443-65d3e0e84976"
      },
      "outputs": [
        {
          "name": "stderr",
          "output_type": "stream",
          "text": [
            "C:\\Users\\sumanth\\AppData\\Local\\Continuum\\anaconda3\\lib\\site-packages\\ipykernel_launcher.py:1: UserWarning: Update your `Dense` call to the Keras 2 API: `Dense(activation=\"sigmoid\", units=3, kernel_initializer=\"random_uniform\")`\n",
            "  \"\"\"Entry point for launching an IPython kernel.\n"
          ]
        }
      ],
      "source": [
        "model.add(Dense(output_dim=3,activation='sigmoid',init='random_uniform'))"
      ]
    },
    {
      "cell_type": "markdown",
      "metadata": {
        "id": "m_Bdjo4J6Dty"
      },
      "source": [
        "# Step7:Compile the model"
      ]
    },
    {
      "cell_type": "code",
      "execution_count": null,
      "metadata": {
        "id": "ufUcoJ-86Dtz"
      },
      "outputs": [],
      "source": [
        "model.compile(optimizer='adam',loss='binary_crossentropy',metrics=['accuracy'])"
      ]
    },
    {
      "cell_type": "markdown",
      "metadata": {
        "id": "cB9vXcEm6Dtz"
      },
      "source": [
        "# Step8: Preprocess images"
      ]
    },
    {
      "cell_type": "code",
      "execution_count": null,
      "metadata": {
        "id": "_cbBpPUr6Dt0"
      },
      "outputs": [],
      "source": [
        "from keras.preprocessing.image import ImageDataGenerator"
      ]
    },
    {
      "cell_type": "code",
      "execution_count": null,
      "metadata": {
        "id": "7NtHgfnQ6Dt1"
      },
      "outputs": [],
      "source": [
        "train_datagen=ImageDataGenerator(rescale=1./255,shear_range=0.2,zoom_range=0.2,horizontal_flip=True)\n",
        "test_datagen = ImageDataGenerator(rescale=1./255)"
      ]
    },
    {
      "cell_type": "code",
      "execution_count": null,
      "metadata": {
        "id": "RZZlUiDv6Dt1",
        "outputId": "333de0ad-c216-40ef-9a83-c8a004f04ec9"
      },
      "outputs": [
        {
          "name": "stdout",
          "output_type": "stream",
          "text": [
            "Found 168 images belonging to 3 classes.\n",
            "Found 110 images belonging to 3 classes.\n"
          ]
        }
      ],
      "source": [
        "x_train = train_datagen.flow_from_directory(r'C:\\Users\\sumanth\\Downloads\\data\\train',target_size=(128,128),batch_size=8,class_mode='categorical')\n",
        "x_test = train_datagen.flow_from_directory(r'C:\\Users\\sumanth\\Downloads\\data\\test',target_size=(128,128),batch_size=8,class_mode='categorical')"
      ]
    },
    {
      "cell_type": "code",
      "execution_count": null,
      "metadata": {
        "id": "FWWumj8_6Dt2",
        "outputId": "6db5b64d-ae0d-477c-843c-1e62a6f5497e"
      },
      "outputs": [
        {
          "name": "stdout",
          "output_type": "stream",
          "text": [
            "{'c1': 0, 'c2': 1, 'cn': 2}\n"
          ]
        }
      ],
      "source": [
        "print(x_train.class_indices)"
      ]
    },
    {
      "cell_type": "code",
      "execution_count": null,
      "metadata": {
        "scrolled": true,
        "id": "FmQxpufy6Dt3",
        "outputId": "4f6ef4bc-423a-4d03-c5aa-0fee4883d40f"
      },
      "outputs": [
        {
          "name": "stdout",
          "output_type": "stream",
          "text": [
            "WARNING:tensorflow:From C:\\Users\\sumanth\\AppData\\Local\\Continuum\\anaconda3\\lib\\site-packages\\tensorflow\\python\\ops\\math_ops.py:3066: to_int32 (from tensorflow.python.ops.math_ops) is deprecated and will be removed in a future version.\n",
            "Instructions for updating:\n",
            "Use tf.cast instead.\n"
          ]
        },
        {
          "name": "stderr",
          "output_type": "stream",
          "text": [
            "C:\\Users\\sumanth\\AppData\\Local\\Continuum\\anaconda3\\lib\\site-packages\\ipykernel_launcher.py:1: UserWarning: The semantics of the Keras 2 argument `steps_per_epoch` is not the same as the Keras 1 argument `samples_per_epoch`. `steps_per_epoch` is the number of batches to draw from the generator at each epoch. Basically steps_per_epoch = samples_per_epoch/batch_size. Similarly `nb_val_samples`->`validation_steps` and `val_samples`->`steps` arguments have changed. Update your method calls accordingly.\n",
            "  \"\"\"Entry point for launching an IPython kernel.\n",
            "C:\\Users\\sumanth\\AppData\\Local\\Continuum\\anaconda3\\lib\\site-packages\\ipykernel_launcher.py:1: UserWarning: Update your `fit_generator` call to the Keras 2 API: `fit_generator(<keras_pre..., epochs=40, validation_data=<keras_pre..., steps_per_epoch=2, validation_steps=110)`\n",
            "  \"\"\"Entry point for launching an IPython kernel.\n"
          ]
        },
        {
          "name": "stdout",
          "output_type": "stream",
          "text": [
            "Epoch 1/40\n",
            "2/2 [==============================] - 10s 5s/step - loss: 0.9486 - acc: 0.5000 - val_loss: 1.4486 - val_acc: 0.5150\n",
            "Epoch 2/40\n",
            "2/2 [==============================] - 9s 5s/step - loss: 0.9039 - acc: 0.7083 - val_loss: 0.7331 - val_acc: 0.5093\n",
            "Epoch 3/40\n",
            "2/2 [==============================] - 9s 5s/step - loss: 0.6465 - acc: 0.6042 - val_loss: 0.6530 - val_acc: 0.6150\n",
            "Epoch 4/40\n",
            "2/2 [==============================] - 9s 5s/step - loss: 0.8972 - acc: 0.5417 - val_loss: 0.6831 - val_acc: 0.6991\n",
            "Epoch 5/40\n",
            "2/2 [==============================] - 9s 5s/step - loss: 0.7166 - acc: 0.6458 - val_loss: 0.9647 - val_acc: 0.5540\n",
            "Epoch 6/40\n",
            "2/2 [==============================] - 9s 5s/step - loss: 0.9622 - acc: 0.5417 - val_loss: 0.7622 - val_acc: 0.7118\n",
            "Epoch 7/40\n",
            "2/2 [==============================] - 9s 5s/step - loss: 0.6409 - acc: 0.6667 - val_loss: 0.5449 - val_acc: 0.6667\n",
            "Epoch 8/40\n",
            "2/2 [==============================] - 9s 5s/step - loss: 0.6289 - acc: 0.7083 - val_loss: 0.5111 - val_acc: 0.7267\n",
            "Epoch 9/40\n",
            "2/2 [==============================] - 9s 5s/step - loss: 0.6159 - acc: 0.6458 - val_loss: 0.5066 - val_acc: 0.6964\n",
            "Epoch 10/40\n",
            "2/2 [==============================] - 9s 5s/step - loss: 0.4397 - acc: 0.8542 - val_loss: 0.5047 - val_acc: 0.7512\n",
            "Epoch 11/40\n",
            "2/2 [==============================] - 10s 5s/step - loss: 0.5161 - acc: 0.8125 - val_loss: 0.5049 - val_acc: 0.8059\n",
            "Epoch 12/40\n",
            "2/2 [==============================] - 10s 5s/step - loss: 0.6330 - acc: 0.6458 - val_loss: 0.4961 - val_acc: 0.7373\n",
            "Epoch 13/40\n",
            "2/2 [==============================] - 9s 5s/step - loss: 0.5154 - acc: 0.6875 - val_loss: 0.5128 - val_acc: 0.7623\n",
            "Epoch 14/40\n",
            "2/2 [==============================] - 10s 5s/step - loss: 0.4429 - acc: 0.8542 - val_loss: 0.4925 - val_acc: 0.7411\n",
            "Epoch 15/40\n",
            "2/2 [==============================] - 9s 5s/step - loss: 0.3570 - acc: 0.8750 - val_loss: 0.4949 - val_acc: 0.7333\n",
            "Epoch 16/40\n",
            "2/2 [==============================] - 9s 5s/step - loss: 0.4458 - acc: 0.7292 - val_loss: 0.5205 - val_acc: 0.7064\n",
            "Epoch 17/40\n",
            "2/2 [==============================] - 9s 5s/step - loss: 0.5422 - acc: 0.6250 - val_loss: 0.4507 - val_acc: 0.7851\n",
            "Epoch 18/40\n",
            "2/2 [==============================] - 10s 5s/step - loss: 0.4749 - acc: 0.7292 - val_loss: 0.3879 - val_acc: 0.9167\n",
            "Epoch 19/40\n",
            "2/2 [==============================] - 10s 5s/step - loss: 0.3882 - acc: 0.8958 - val_loss: 0.3657 - val_acc: 0.8935\n",
            "Epoch 20/40\n",
            "2/2 [==============================] - 9s 5s/step - loss: 0.3373 - acc: 0.9375 - val_loss: 0.3472 - val_acc: 0.8445\n",
            "Epoch 21/40\n",
            "2/2 [==============================] - 10s 5s/step - loss: 0.3954 - acc: 0.8542 - val_loss: 0.3509 - val_acc: 0.8237\n",
            "Epoch 22/40\n",
            "2/2 [==============================] - 9s 5s/step - loss: 0.3480 - acc: 0.8542 - val_loss: 0.3264 - val_acc: 0.8622\n",
            "Epoch 23/40\n",
            "2/2 [==============================] - 9s 5s/step - loss: 0.2554 - acc: 0.9167 - val_loss: 0.3830 - val_acc: 0.8191\n",
            "Epoch 24/40\n",
            "2/2 [==============================] - 9s 5s/step - loss: 0.3657 - acc: 0.7917 - val_loss: 0.3914 - val_acc: 0.8519\n",
            "Epoch 25/40\n",
            "2/2 [==============================] - 9s 5s/step - loss: 0.3408 - acc: 0.8958 - val_loss: 0.3020 - val_acc: 0.8889\n",
            "Epoch 26/40\n",
            "2/2 [==============================] - 9s 5s/step - loss: 0.2538 - acc: 0.8958 - val_loss: 0.2797 - val_acc: 0.8684\n",
            "Epoch 27/40\n",
            "2/2 [==============================] - 9s 5s/step - loss: 0.2122 - acc: 0.9583 - val_loss: 0.2833 - val_acc: 0.8542\n",
            "Epoch 28/40\n",
            "2/2 [==============================] - 9s 5s/step - loss: 0.2671 - acc: 0.9375 - val_loss: 0.2613 - val_acc: 0.9140\n",
            "Epoch 29/40\n",
            "2/2 [==============================] - 9s 5s/step - loss: 0.2487 - acc: 0.9375 - val_loss: 0.2329 - val_acc: 0.9388\n",
            "Epoch 30/40\n",
            "2/2 [==============================] - 9s 5s/step - loss: 0.1602 - acc: 0.9792 - val_loss: 0.2330 - val_acc: 0.9008\n",
            "Epoch 31/40\n",
            "2/2 [==============================] - 9s 5s/step - loss: 0.2447 - acc: 0.9375 - val_loss: 0.2261 - val_acc: 0.9151\n",
            "Epoch 32/40\n",
            "2/2 [==============================] - 9s 5s/step - loss: 0.2216 - acc: 0.9583 - val_loss: 0.2065 - val_acc: 0.9572\n",
            "Epoch 33/40\n",
            "2/2 [==============================] - 9s 5s/step - loss: 0.1833 - acc: 0.9583 - val_loss: 0.1956 - val_acc: 0.9487\n",
            "Epoch 34/40\n",
            "2/2 [==============================] - 9s 5s/step - loss: 0.2092 - acc: 0.9375 - val_loss: 0.2424 - val_acc: 0.8688\n",
            "Epoch 35/40\n",
            "2/2 [==============================] - 9s 5s/step - loss: 0.2001 - acc: 0.9167 - val_loss: 0.2054 - val_acc: 0.9325\n",
            "Epoch 36/40\n",
            "2/2 [==============================] - 9s 5s/step - loss: 0.1431 - acc: 1.0000 - val_loss: 0.2099 - val_acc: 0.9523\n",
            "Epoch 37/40\n",
            "2/2 [==============================] - 9s 5s/step - loss: 0.1689 - acc: 0.9583 - val_loss: 0.1752 - val_acc: 0.9660\n",
            "Epoch 38/40\n",
            "2/2 [==============================] - 9s 5s/step - loss: 0.1671 - acc: 0.9167 - val_loss: 0.1642 - val_acc: 0.9645\n",
            "Epoch 39/40\n",
            "2/2 [==============================] - 9s 5s/step - loss: 0.1741 - acc: 0.9583 - val_loss: 0.1802 - val_acc: 0.9217\n",
            "Epoch 40/40\n",
            "2/2 [==============================] - 9s 5s/step - loss: 0.1013 - acc: 1.0000 - val_loss: 0.1545 - val_acc: 0.9564\n"
          ]
        },
        {
          "data": {
            "text/plain": [
              "<keras.callbacks.History at 0x18e9efc7d68>"
            ]
          },
          "execution_count": 14,
          "metadata": {},
          "output_type": "execute_result"
        }
      ],
      "source": [
        "model.fit_generator(x_train,samples_per_epoch = 21,epochs=40,validation_data=x_test,nb_val_samples=110)#(samples_per_epoch= no of traininig or testing images/batch size)\n",
        "                                                                        #                                                       =8000/32=250"
      ]
    },
    {
      "cell_type": "code",
      "execution_count": null,
      "metadata": {
        "id": "RUT7lR3g6Dt4"
      },
      "outputs": [],
      "source": [
        "model.save('mymodel.h5')# this will save the weights,for keras h5 is extension"
      ]
    },
    {
      "cell_type": "code",
      "execution_count": null,
      "metadata": {
        "id": "4YctSSyH6Dt5"
      },
      "outputs": [],
      "source": []
    },
    {
      "cell_type": "code",
      "execution_count": null,
      "metadata": {
        "id": "mFq2HNXz6Dt5"
      },
      "outputs": [],
      "source": []
    },
    {
      "cell_type": "code",
      "execution_count": null,
      "metadata": {
        "id": "1s_PVS_x6Dt5"
      },
      "outputs": [],
      "source": []
    },
    {
      "cell_type": "code",
      "execution_count": null,
      "metadata": {
        "id": "1cRs2kz06Dt6"
      },
      "outputs": [],
      "source": []
    }
  ],
  "metadata": {
    "kernelspec": {
      "display_name": "Python 3",
      "language": "python",
      "name": "python3"
    },
    "language_info": {
      "codemirror_mode": {
        "name": "ipython",
        "version": 3
      },
      "file_extension": ".py",
      "mimetype": "text/x-python",
      "name": "python",
      "nbconvert_exporter": "python",
      "pygments_lexer": "ipython3",
      "version": "3.7.3"
    },
    "colab": {
      "provenance": [],
      "include_colab_link": true
    }
  },
  "nbformat": 4,
  "nbformat_minor": 0
}